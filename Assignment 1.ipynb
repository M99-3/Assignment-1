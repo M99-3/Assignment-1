{
 "cells": [
  {
   "cell_type": "code",
   "execution_count": 1,
   "metadata": {},
   "outputs": [
    {
     "name": "stdout",
     "output_type": "stream",
     "text": [
      "Enter your name: Mili\n"
     ]
    }
   ],
   "source": [
    "x=input(\"Enter your name: \")"
   ]
  },
  {
   "cell_type": "code",
   "execution_count": 2,
   "metadata": {},
   "outputs": [
    {
     "name": "stdout",
     "output_type": "stream",
     "text": [
      "Hello  Mili\n"
     ]
    }
   ],
   "source": [
    "print(\"Hello \",x)"
   ]
  },
  {
   "cell_type": "code",
   "execution_count": 3,
   "metadata": {},
   "outputs": [
    {
     "name": "stdout",
     "output_type": "stream",
     "text": [
      "Temperature in Celsius: 30\n"
     ]
    }
   ],
   "source": [
    "Cel=input(\"Temperature in Celsius: \")"
   ]
  },
  {
   "cell_type": "code",
   "execution_count": 4,
   "metadata": {},
   "outputs": [],
   "source": [
    "Cel=int(Cel)"
   ]
  },
  {
   "cell_type": "code",
   "execution_count": 5,
   "metadata": {},
   "outputs": [],
   "source": [
    "Fah=(Cel*9/5)+32"
   ]
  },
  {
   "cell_type": "code",
   "execution_count": 6,
   "metadata": {},
   "outputs": [
    {
     "name": "stdout",
     "output_type": "stream",
     "text": [
      "Temperature in Fahrenheit:  86.0\n"
     ]
    }
   ],
   "source": [
    "print(\"Temperature in Fahrenheit: \",Fah)"
   ]
  },
  {
   "cell_type": "code",
   "execution_count": 7,
   "metadata": {},
   "outputs": [
    {
     "name": "stdout",
     "output_type": "stream",
     "text": [
      "Enter hours: 45\n"
     ]
    }
   ],
   "source": [
    "hours=input(\"Enter hours: \")"
   ]
  },
  {
   "cell_type": "code",
   "execution_count": 8,
   "metadata": {},
   "outputs": [
    {
     "name": "stdout",
     "output_type": "stream",
     "text": [
      "Enter rate: 10\n"
     ]
    }
   ],
   "source": [
    "rate=input(\"Enter rate: \")"
   ]
  },
  {
   "cell_type": "code",
   "execution_count": 9,
   "metadata": {},
   "outputs": [],
   "source": [
    "hours=float(hours)"
   ]
  },
  {
   "cell_type": "code",
   "execution_count": 10,
   "metadata": {},
   "outputs": [],
   "source": [
    "rate=float(rate)"
   ]
  },
  {
   "cell_type": "code",
   "execution_count": 11,
   "metadata": {},
   "outputs": [],
   "source": [
    "if hours>40:\n",
    "    pay=(40*rate)+(hours-40)*1.5*rate\n",
    "else:\n",
    "    pay=hours*rate"
   ]
  },
  {
   "cell_type": "code",
   "execution_count": 12,
   "metadata": {},
   "outputs": [
    {
     "name": "stdout",
     "output_type": "stream",
     "text": [
      "Pay:  475.0\n"
     ]
    }
   ],
   "source": [
    "print(\"Pay: \",pay)"
   ]
  },
  {
   "cell_type": "code",
   "execution_count": 15,
   "metadata": {},
   "outputs": [
    {
     "name": "stdout",
     "output_type": "stream",
     "text": [
      "Enter hours: nine\n"
     ]
    }
   ],
   "source": [
    "hrs=input(\"Enter hours: \")"
   ]
  },
  {
   "cell_type": "code",
   "execution_count": 16,
   "metadata": {},
   "outputs": [
    {
     "name": "stdout",
     "output_type": "stream",
     "text": [
      "Error, please enter numeric input\n"
     ]
    }
   ],
   "source": [
    "try:\n",
    "    hrs=float(hrs)\n",
    "    Rate=input(\"Enter rate: \")\n",
    "    try:\n",
    "        Rate=float(Rate)\n",
    "        if hrs>40:\n",
    "            Pay=(40*Rate)+(hrs-40)*1.5*Rate\n",
    "        else:\n",
    "            Pay=Rate*hrs\n",
    "        print(\"Pay: \",Pay)\n",
    "    except:\n",
    "        print(\"Error,please enter numeric input\")\n",
    "except:\n",
    "    print(\"Error, please enter numeric input\")\n",
    "\n",
    "    "
   ]
  },
  {
   "cell_type": "code",
   "execution_count": 3,
   "metadata": {},
   "outputs": [
    {
     "name": "stdout",
     "output_type": "stream",
     "text": [
      "Before:  5000\n"
     ]
    }
   ],
   "source": [
    "smallest=5000\n",
    "print(\"Before: \",smallest)"
   ]
  },
  {
   "cell_type": "code",
   "execution_count": 4,
   "metadata": {},
   "outputs": [
    {
     "name": "stdout",
     "output_type": "stream",
     "text": [
      "After:  3\n"
     ]
    }
   ],
   "source": [
    "for num in [45,708,86,102,3,444,321]:\n",
    "    if num<smallest:\n",
    "        smallest=num\n",
    "print(\"After: \",smallest)"
   ]
  },
  {
   "cell_type": "code",
   "execution_count": null,
   "metadata": {},
   "outputs": [],
   "source": []
  }
 ],
 "metadata": {
  "kernelspec": {
   "display_name": "Python 3",
   "language": "python",
   "name": "python3"
  },
  "language_info": {
   "codemirror_mode": {
    "name": "ipython",
    "version": 3
   },
   "file_extension": ".py",
   "mimetype": "text/x-python",
   "name": "python",
   "nbconvert_exporter": "python",
   "pygments_lexer": "ipython3",
   "version": "3.7.3"
  }
 },
 "nbformat": 4,
 "nbformat_minor": 2
}
